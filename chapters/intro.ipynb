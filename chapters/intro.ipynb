{
 "cells": [
  {
   "cell_type": "markdown",
   "metadata": {},
   "source": [
    "# Εγκατάσταση Απαραίτητων Λογισμικών και Βιβλιοθηκών"
   ]
  },
  {
   "cell_type": "markdown",
   "metadata": {},
   "source": [
    "Στο πρώτο κεφάλαιο θα ασχοληθούμε με την εγκατάσταση των απαραίτητων λογισμικών προγραμμάτων και βιβλιοθηκών για την επεξεργασία γεωχωρικών δεδομένων με τη χρήση της γλώσσας προγραμματισμού Python. Συνοπτικά για τις ανάγκες του παρόντος εγχειριδίου θα εγκαταστήσουμε τα ακόλουθα:\n",
    "<li> Miniconda</li>\n",
    "<li> QGIS</li>\n",
    "<li> Jupyter Notebook</li>\n",
    "<li> Google Colab</li>\n"
   ]
  },
  {
   "cell_type": "markdown",
   "metadata": {},
   "source": [
    "Στα επόμενα κεφάλαια ακολουθούν αναλυτικές οδηγίες για την εγκατάσταση των παραπάνω προγραμμάτων."
   ]
  },
  {
   "cell_type": "code",
   "execution_count": null,
   "metadata": {},
   "outputs": [],
   "source": []
  }
 ],
 "metadata": {
  "kernelspec": {
   "display_name": "Python 3",
   "language": "python",
   "name": "python3"
  },
  "language_info": {
   "codemirror_mode": {
    "name": "ipython",
    "version": 3
   },
   "file_extension": ".py",
   "mimetype": "text/x-python",
   "name": "python",
   "nbconvert_exporter": "python",
   "pygments_lexer": "ipython3",
   "version": "3.7.6"
  }
 },
 "nbformat": 4,
 "nbformat_minor": 4
}
